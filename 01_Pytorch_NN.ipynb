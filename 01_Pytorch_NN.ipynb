{
  "nbformat": 4,
  "nbformat_minor": 0,
  "metadata": {
    "colab": {
      "provenance": []
    },
    "kernelspec": {
      "name": "python3",
      "display_name": "Python 3"
    },
    "language_info": {
      "name": "python"
    },
    "gpuClass": "standard"
  },
  "cells": [
    {
      "cell_type": "code",
      "execution_count": null,
      "metadata": {
        "id": "Khv8ZSh_KD2N"
      },
      "outputs": [],
      "source": [
        "import torch\n",
        "from torch import nn\n",
        "import matplotlib.pyplot as plt"
      ]
    },
    {
      "cell_type": "code",
      "source": [
        "start=0\n",
        "end=1\n",
        "step=0.02\n",
        "\n",
        "weight=0.7\n",
        "bias=0.3\n",
        "X = torch.arange(start,end,step).unsqueeze(dim=1)\n",
        "y = weight*X+bias\n",
        "X[:10],y[:10]"
      ],
      "metadata": {
        "colab": {
          "base_uri": "https://localhost:8080/"
        },
        "id": "rFh6XBs5277W",
        "outputId": "9b423344-4211-4c8d-8829-8f70bcf931e0"
      },
      "execution_count": null,
      "outputs": [
        {
          "output_type": "execute_result",
          "data": {
            "text/plain": [
              "(tensor([[0.0000],\n",
              "         [0.0200],\n",
              "         [0.0400],\n",
              "         [0.0600],\n",
              "         [0.0800],\n",
              "         [0.1000],\n",
              "         [0.1200],\n",
              "         [0.1400],\n",
              "         [0.1600],\n",
              "         [0.1800]]), tensor([[0.3000],\n",
              "         [0.3140],\n",
              "         [0.3280],\n",
              "         [0.3420],\n",
              "         [0.3560],\n",
              "         [0.3700],\n",
              "         [0.3840],\n",
              "         [0.3980],\n",
              "         [0.4120],\n",
              "         [0.4260]]))"
            ]
          },
          "metadata": {},
          "execution_count": 15
        }
      ]
    },
    {
      "cell_type": "code",
      "source": [
        "train_split = int(0.8*len(X))\n",
        "train_split"
      ],
      "metadata": {
        "id": "BgL2byAf3d0g",
        "colab": {
          "base_uri": "https://localhost:8080/"
        },
        "outputId": "f5f00b62-983d-4860-fba7-c00941b1d45a"
      },
      "execution_count": null,
      "outputs": [
        {
          "output_type": "execute_result",
          "data": {
            "text/plain": [
              "40"
            ]
          },
          "metadata": {},
          "execution_count": 16
        }
      ]
    },
    {
      "cell_type": "code",
      "source": [
        "# Create train/test split\n",
        "train_split = int(0.8 * len(X)) # 80% of data used for training set, 20% for testing \n",
        "X_train, y_train = X[:train_split], y[:train_split]\n",
        "X_test, y_test = X[train_split:], y[train_split:]\n",
        "\n",
        "len(X_train), len(y_train), len(X_test), len(y_test)"
      ],
      "metadata": {
        "id": "7F4GwRd9rzaZ",
        "colab": {
          "base_uri": "https://localhost:8080/"
        },
        "outputId": "6238c690-7ae0-40bd-e40d-6f0ed254e84e"
      },
      "execution_count": null,
      "outputs": [
        {
          "output_type": "execute_result",
          "data": {
            "text/plain": [
              "(40, 40, 10, 10)"
            ]
          },
          "metadata": {},
          "execution_count": 17
        }
      ]
    },
    {
      "cell_type": "code",
      "source": [
        "def plot_predictions(train_data=X_train, \n",
        "                     train_labels=y_train, \n",
        "                     test_data=X_test, \n",
        "                     test_labels=y_test, \n",
        "                     predictions=None):\n",
        "  \"\"\"\n",
        "  Plots training data, test data and compares predictions.\n",
        "  \"\"\"\n",
        "  plt.figure(figsize=(10, 7))\n",
        "\n",
        "  # Plot training data in blue\n",
        "  plt.scatter(train_data, train_labels, c=\"b\", s=4, label=\"Training data\")\n",
        "  \n",
        "  # Plot test data in green\n",
        "  plt.scatter(test_data, test_labels, c=\"g\", s=4, label=\"Testing data\")\n",
        "\n",
        "  if predictions is not None:\n",
        "    # Plot the predictions in red (predictions were made on the test data)\n",
        "    plt.scatter(test_data, predictions, c=\"r\", s=4, label=\"Predictions\")\n",
        "\n",
        "  # Show the legend\n",
        "  plt.legend(prop={\"size\": 14});"
      ],
      "metadata": {
        "id": "S_yctq2aVMx-"
      },
      "execution_count": null,
      "outputs": []
    },
    {
      "cell_type": "code",
      "source": [
        "plot_predictions();"
      ],
      "metadata": {
        "colab": {
          "base_uri": "https://localhost:8080/",
          "height": 428
        },
        "id": "45IEMoKVX-Pq",
        "outputId": "771e6436-c5df-4105-d4da-35d32aba1fc4"
      },
      "execution_count": null,
      "outputs": [
        {
          "output_type": "display_data",
          "data": {
            "text/plain": [
              "<Figure size 720x504 with 1 Axes>"
            ],
            "image/png": "[encoded data removed]"
          },
          "metadata": {
            "needs_background": "light"
          }
        }
      ]
    },
    {
      "cell_type": "code",
      "source": [
        "!nvidia-sim"
      ],
      "metadata": {
        "colab": {
          "base_uri": "https://localhost:8080/"
        },
        "id": "C56Jzva7FJzB",
        "outputId": "86752243-b322-43ed-eb58-e9f9cc6efda2"
      },
      "execution_count": null,
      "outputs": [
        {
          "output_type": "stream",
          "name": "stdout",
          "text": [
            "/bin/bash: nvidia-sim: command not found\n"
          ]
        }
      ]
    },
    {
      "cell_type": "code",
      "source": [
        "from torch import nn\n",
        "import torch"
      ],
      "metadata": {
        "id": "8aAvZntjwMVn"
      },
      "execution_count": null,
      "outputs": []
    },
    {
      "cell_type": "code",
      "source": [
        "\n",
        "class LinearRegressionModel(nn.Module):\n",
        "  def __init__(self):\n",
        "    super().__init__()\n",
        "    self.weights = nn.Parameter(torch.randn(1,requires_grad=True,dtype=torch.float))\n",
        "\n",
        "    self.bias = nn.Parameter(torch.randn(1,requires_grad=True,dtype=torch.float))\n",
        "\n",
        "  def forward(self, x: torch.Tensor) -> torch.Tensor: # <- \"x\" is the input data (e.g. training/testing features)\n",
        "    return self.weights * x + self.bias"
      ],
      "metadata": {
        "id": "mMICWhFz0Wfy"
      },
      "execution_count": null,
      "outputs": []
    },
    {
      "cell_type": "code",
      "source": [
        "model_0 = LinearRegressionModel()\n",
        "list(model_0.parameters())"
      ],
      "metadata": {
        "colab": {
          "base_uri": "https://localhost:8080/"
        },
        "id": "kNPAKt8r4eMR",
        "outputId": "688a3eee-e92f-4069-ccf4-a4ac8bed6497"
      },
      "execution_count": null,
      "outputs": [
        {
          "output_type": "execute_result",
          "data": {
            "text/plain": [
              "[Parameter containing:\n",
              " tensor([0.3367], requires_grad=True), Parameter containing:\n",
              " tensor([0.1288], requires_grad=True)]"
            ]
          },
          "metadata": {},
          "execution_count": 23
        }
      ]
    },
    {
      "cell_type": "code",
      "source": [
        "#find out list parameter value\n",
        "model_0.state_dict()"
      ],
      "metadata": {
        "colab": {
          "base_uri": "https://localhost:8080/"
        },
        "id": "EwM_YZEGE3WV",
        "outputId": "e7311f0a-1df2-4d0e-90f3-15c8c38854e8"
      },
      "execution_count": null,
      "outputs": [
        {
          "output_type": "execute_result",
          "data": {
            "text/plain": [
              "OrderedDict([('weights', tensor([0.3367])), ('bias', tensor([0.1288]))])"
            ]
          },
          "metadata": {},
          "execution_count": 24
        }
      ]
    },
    {
      "cell_type": "code",
      "source": [
        "weight,bias"
      ],
      "metadata": {
        "colab": {
          "base_uri": "https://localhost:8080/"
        },
        "id": "jSHo8iB8FNp6",
        "outputId": "748b4b3f-1ba6-48be-f045-46860364c838"
      },
      "execution_count": null,
      "outputs": [
        {
          "output_type": "execute_result",
          "data": {
            "text/plain": [
              "(0.7, 0.3)"
            ]
          },
          "metadata": {},
          "execution_count": 25
        }
      ]
    },
    {
      "cell_type": "code",
      "source": [
        "#Making prediction using torch.inference_mode()\n",
        "\n",
        "\n",
        "\n",
        "with torch.inference_mode():\n",
        "  y_preds = model_0(X_test)\n",
        "\n",
        "\n",
        "y_preds"
      ],
      "metadata": {
        "colab": {
          "base_uri": "https://localhost:8080/"
        },
        "id": "sIwSXb1PFh1n",
        "outputId": "91db48ec-4bc8-4005-f7c7-1131aa919cef"
      },
      "execution_count": null,
      "outputs": [
        {
          "output_type": "execute_result",
          "data": {
            "text/plain": [
              "tensor([[0.3982],\n",
              "        [0.4049],\n",
              "        [0.4116],\n",
              "        [0.4184],\n",
              "        [0.4251],\n",
              "        [0.4318],\n",
              "        [0.4386],\n",
              "        [0.4453],\n",
              "        [0.4520],\n",
              "        [0.4588]])"
            ]
          },
          "metadata": {},
          "execution_count": 26
        }
      ]
    },
    {
      "cell_type": "code",
      "source": [
        "plot_predictions(predictions=y_preds)"
      ],
      "metadata": {
        "colab": {
          "base_uri": "https://localhost:8080/",
          "height": 428
        },
        "id": "FOEovXA-GXAB",
        "outputId": "d73c1454-d5ef-4b4e-c951-f1c38a0730cb"
      },
      "execution_count": null,
      "outputs": [
        {
          "output_type": "display_data",
          "data": {
            "text/plain": [
              "<Figure size 720x504 with 1 Axes>"
            ],
            "image/png": "[encoded data removed]"
          },
          "metadata": {
            "needs_background": "light"
          }
        }
      ]
    },
    {
      "cell_type": "code",
      "source": [
        "model_0.state_dict()"
      ],
      "metadata": {
        "colab": {
          "base_uri": "https://localhost:8080/"
        },
        "id": "GhBq58G0Hpcv",
        "outputId": "2be5858a-d20d-4fb8-98ed-c951c4659ea9"
      },
      "execution_count": null,
      "outputs": [
        {
          "output_type": "execute_result",
          "data": {
            "text/plain": [
              "OrderedDict([('weights', tensor([0.3367])), ('bias', tensor([0.1288]))])"
            ]
          },
          "metadata": {},
          "execution_count": 28
        }
      ]
    },
    {
      "cell_type": "code",
      "source": [
        "########### Now set up a loss function to see how wrong our model is\n",
        "\n",
        "loss_fn = nn.L1Loss( )\n",
        "\n",
        "#########v Now set up a optimizer function to optimize the model\n",
        "optimizer = torch.optim.SGD(params=model_0.parameters(),lr=0.01,momentum=0.9)"
      ],
      "metadata": {
        "id": "NTZ0q0vDIPbH"
      },
      "execution_count": null,
      "outputs": []
    },
    {
      "cell_type": "code",
      "source": [
        "torch.manual_seed(42)\n",
        "epochs=100\n",
        "\n",
        "for epoch in range(epochs):\n",
        "  model_0.train()\n",
        "  y_pred=model_0(X_train)\n",
        "  loss = loss_fn(y_pred,y_train)\n",
        "  print(f\"Loss {loss}\")\n",
        "  optimizer.zero_grad()\n",
        "  loss.backward()\n",
        "  optimizer.step()\n",
        "\n",
        "\n",
        "\n",
        "  ################################  Testing     ################################\n",
        "  model_0.eval()\n",
        "  with torch.inference_mode(): # this will turn off gradient tracking and couple more things\n",
        "    # with torch.no_grad(): # It is used in old version of pytorch code\n",
        "    # 1. Do the forward pass\n",
        "    test_pred = model_0(X_test)\n",
        "    # 2. Calculate the loss\n",
        "    test_loss = loss_fn(test_pred,y_test)\n",
        "\n",
        "    # Print out what's happening\n",
        "    if epoch % 10==0:\n",
        "      print(f\"Epoch:{epoch}  | Loss:{loss}  | Test_losss:{test_loss}\")\n",
        "      print(model_0.state_dict())"
      ],
      "metadata": {
        "id": "Tutt1KKrLo3H",
        "colab": {
          "base_uri": "https://localhost:8080/"
        },
        "outputId": "924a61fe-bc06-41ac-b802-c79903250f10"
      },
      "execution_count": null,
      "outputs": [
        {
          "output_type": "stream",
          "name": "stdout",
          "text": [
            "Loss 0.31288138031959534\n",
            "Epoch:0  | Loss:0.31288138031959534  | Test_losss:0.48106518387794495\n",
            "OrderedDict([('weights', tensor([0.3406])), ('bias', tensor([0.1388]))])\n",
            "Loss 0.3013603389263153\n",
            "Loss 0.27947044372558594\n",
            "Loss 0.24824854731559753\n",
            "Loss 0.2086278200149536\n",
            "Loss 0.16144821047782898\n",
            "Loss 0.10788238048553467\n",
            "Loss 0.06537707895040512\n",
            "Loss 0.05091674253344536\n",
            "Loss 0.06787853688001633\n",
            "Loss 0.10313145816326141\n",
            "Epoch:10  | Loss:0.10313145816326141  | Test_losss:0.026505161076784134\n",
            "OrderedDict([('weights', tensor([0.4982])), ('bias', tensor([0.5061]))])\n",
            "Loss 0.12741199135780334\n",
            "Loss 0.13774344325065613\n",
            "Loss 0.13552074134349823\n",
            "Loss 0.12199928611516953\n",
            "Loss 0.09830901771783829\n",
            "Loss 0.06750769913196564\n",
            "Loss 0.04827551916241646\n",
            "Loss 0.04651679843664169\n",
            "Loss 0.05649535730481148\n",
            "Loss 0.06960087269544601\n",
            "Epoch:20  | Loss:0.06960087269544601  | Test_losss:0.1943041831254959\n",
            "OrderedDict([('weights', tensor([0.4652])), ('bias', tensor([0.3147]))])\n",
            "Loss 0.07842990010976791\n",
            "Loss 0.07919305562973022\n",
            "Loss 0.07134126126766205\n",
            "Loss 0.057767607271671295\n",
            "Loss 0.044025398790836334\n",
            "Loss 0.035520315170288086\n",
            "Loss 0.03551789000630379\n",
            "Loss 0.042473725974559784\n",
            "Loss 0.048750028014183044\n",
            "Loss 0.04656733572483063\n",
            "Epoch:30  | Loss:0.04656733572483063  | Test_losss:0.027078520506620407\n",
            "OrderedDict([('weights', tensor([0.5785])), ('bias', tensor([0.3811]))])\n",
            "Loss 0.03597811236977577\n",
            "Loss 0.026211505755782127\n",
            "Loss 0.023925988003611565\n",
            "Loss 0.027853453531861305\n",
            "Loss 0.03201192617416382\n",
            "Loss 0.030575979501008987\n",
            "Loss 0.022662965580821037\n",
            "Loss 0.013983775861561298\n",
            "Loss 0.01454885583370924\n",
            "Loss 0.021285563707351685\n",
            "Epoch:40  | Loss:0.021285563707351685  | Test_losss:0.001966828014701605\n",
            "OrderedDict([('weights', tensor([0.6690])), ('bias', tensor([0.3293]))])\n",
            "Loss 0.017144346609711647\n",
            "Loss 0.005703804548829794\n",
            "Loss 0.012792694382369518\n",
            "Loss 0.014491776935756207\n",
            "Loss 0.004499936942011118\n",
            "Loss 0.016013706102967262\n",
            "Loss 0.02295498177409172\n",
            "Loss 0.01768113300204277\n",
            "Loss 0.00428023049607873\n",
            "Loss 0.015717655420303345\n",
            "Epoch:50  | Loss:0.015717655420303345  | Test_losss:0.0101406155154109\n",
            "OrderedDict([('weights', tensor([0.7189])), ('bias', tensor([0.2730]))])\n",
            "Loss 0.01961486041545868\n",
            "Loss 0.011601334437727928\n",
            "Loss 0.008422991260886192\n",
            "Loss 0.017111139371991158\n",
            "Loss 0.01457148790359497\n",
            "Loss 0.0063713653944432735\n",
            "Loss 0.013015354983508587\n",
            "Loss 0.013896469958126545\n",
            "Loss 0.005849192850291729\n",
            "Loss 0.009445277974009514\n",
            "Epoch:60  | Loss:0.009445277974009514  | Test_losss:0.02402856945991516\n",
            "OrderedDict([('weights', tensor([0.7263])), ('bias', tensor([0.3007]))])\n",
            "Loss 0.010897139087319374\n",
            "Loss 0.004099954850971699\n",
            "Loss 0.010071751661598682\n",
            "Loss 0.008401626721024513\n",
            "Loss 0.0046224757097661495\n",
            "Loss 0.00482319388538599\n",
            "Loss 0.006517163477838039\n",
            "Loss 0.005202512256801128\n",
            "Loss 0.007501694373786449\n",
            "Loss 0.007414478808641434\n",
            "Epoch:70  | Loss:0.007414478808641434  | Test_losss:0.007351130247116089\n",
            "OrderedDict([('weights', tensor([0.6937])), ('bias', tensor([0.2983]))])\n",
            "Loss 0.004185013473033905\n",
            "Loss 0.0031035528518259525\n",
            "Loss 0.009390780702233315\n",
            "Loss 0.009114669635891914\n",
            "Loss 0.0030299380887299776\n",
            "Loss 0.005835606250911951\n",
            "Loss 0.0029240832664072514\n",
            "Loss 0.002495331224054098\n",
            "Loss 0.005807557143270969\n",
            "Loss 0.0018297977512702346\n",
            "Epoch:80  | Loss:0.0018297977512702346  | Test_losss:0.009309673681855202\n",
            "OrderedDict([('weights', tensor([0.6994])), ('bias', tensor([0.3098]))])\n",
            "Loss 0.0096034687012434\n",
            "Loss 0.008163283579051495\n",
            "Loss 0.004653883632272482\n",
            "Loss 0.004668347537517548\n",
            "Loss 0.00683964928612113\n",
            "Loss 0.005675841122865677\n",
            "Loss 0.0068926094099879265\n",
            "Loss 0.0066832005977630615\n",
            "Loss 0.005026283673942089\n",
            "Loss 0.004054517950862646\n",
            "Epoch:90  | Loss:0.004054517950862646  | Test_losss:0.004079228732734919\n",
            "OrderedDict([('weights', tensor([0.7076])), ('bias', tensor([0.2892]))])\n",
            "Loss 0.00786140188574791\n",
            "Loss 0.00705511961132288\n",
            "Loss 0.005191560834646225\n",
            "Loss 0.004736059345304966\n",
            "Loss 0.005765809677541256\n",
            "Loss 0.0036953315138816833\n",
            "Loss 0.007816629484295845\n",
            "Loss 0.00662221247330308\n",
            "Loss 0.005973753519356251\n"
          ]
        }
      ]
    },
    {
      "cell_type": "code",
      "source": [
        "  with torch.inference_mode():\n",
        "    y_preds_new = model_0(X_test)"
      ],
      "metadata": {
        "id": "xoZccS3nN319"
      },
      "execution_count": null,
      "outputs": []
    },
    {
      "cell_type": "code",
      "source": [
        "model_0.state_dict()"
      ],
      "metadata": {
        "colab": {
          "base_uri": "https://localhost:8080/"
        },
        "id": "TqhzGW6FSzuH",
        "outputId": "595a966a-8694-4008-ef76-c29cee6315a2"
      },
      "execution_count": null,
      "outputs": [
        {
          "output_type": "execute_result",
          "data": {
            "text/plain": [
              "OrderedDict([('weights', tensor([0.7081])), ('bias', tensor([0.2911]))])"
            ]
          },
          "metadata": {},
          "execution_count": 32
        }
      ]
    },
    {
      "cell_type": "code",
      "source": [
        "plot_predictions(predictions = y_preds_new) "
      ],
      "metadata": {
        "colab": {
          "base_uri": "https://localhost:8080/",
          "height": 428
        },
        "id": "bN2BLPfMS5EN",
        "outputId": "4b5fa31c-13ef-490a-f814-98e66f270c6d"
      },
      "execution_count": null,
      "outputs": [
        {
          "output_type": "display_data",
          "data": {
            "text/plain": [
              "<Figure size 720x504 with 1 Axes>"
            ],
            "image/png": "[encoded data removed]"
          },
          "metadata": {
            "needs_background": "light"
          }
        }
      ]
    },
    {
      "cell_type": "markdown",
      "source": [
        "### Saving a model in PyTorch\n",
        "\n",
        " PyTorch method\t                         What does it do?\n",
        "\n",
        "1. torch.save\t                     Saves a serialzed object to disk using Python's pickle utility. Models, tensors and various other Python objects like dictionaries can be saved using torch.save.\n",
        "2. torch.load\t                      Uses pickle's unpickling features to deserialize and load pickled Python object files (like models, tensors or dictionaries) into memory. You can also set which device to load the object to (CPU, GPU etc).\n",
        "3. torch.nn.Module.load_state_dict\t Loads a model's parameter dictionary (model.state_dict()) using a saved state_dict() object."
      ],
      "metadata": {
        "id": "_R6hlxWMZP3Q"
      }
    },
    {
      "cell_type": "code",
      "source": [
        "# Saving the Pytorch Model\n",
        "from pathlib import Path\n",
        "\n",
        "#1. Create model's directory\n",
        "model_path = Path(\"models\")\n",
        "model_path.mkdir(parents=True,exist_ok=True) \n",
        "#2. Create model save path\n",
        "model_name = \"01_pytorch_nn.pth\"\n",
        "model_save_path = model_path/model_name\n",
        "\n",
        "#3. save the model state dict\n",
        "\n",
        "print(f\"Saving model to:{model_save_path}\")\n",
        "torch.save(model_0.state_dict(),model_save_path)\n",
        "\n"
      ],
      "metadata": {
        "colab": {
          "base_uri": "https://localhost:8080/"
        },
        "id": "SB0PLGf1c98L",
        "outputId": "c0ac41dd-8bc9-482f-fe3e-b1ed43118c00"
      },
      "execution_count": null,
      "outputs": [
        {
          "output_type": "stream",
          "name": "stdout",
          "text": [
            "Saving model to:models/01_pytorch_nn.pth\n"
          ]
        }
      ]
    },
    {
      "cell_type": "markdown",
      "source": [],
      "metadata": {
        "id": "NhMORBt_ZNjX"
      }
    },
    {
      "cell_type": "markdown",
      "source": [
        "Since we've now got a saved model state_dict() rather the entire model at models/01_pytorch_nn.pth we can now load it in using torch.nn.Module.load_state_dict(torch.load(f)) where f is the filepath of our saved model state_dict()."
      ],
      "metadata": {
        "id": "9NBDZLf0kuxU"
      }
    },
    {
      "cell_type": "code",
      "source": [
        "# check out last times model's state dict parameter\n",
        "model_0.state_dict()"
      ],
      "metadata": {
        "colab": {
          "base_uri": "https://localhost:8080/"
        },
        "id": "b0JJzQLulETT",
        "outputId": "a8fae00d-6e19-4790-8775-bf6ddedc9554"
      },
      "execution_count": null,
      "outputs": [
        {
          "output_type": "execute_result",
          "data": {
            "text/plain": [
              "OrderedDict([('weights', tensor([0.7081])), ('bias', tensor([0.2911]))])"
            ]
          },
          "metadata": {},
          "execution_count": 35
        }
      ]
    },
    {
      "cell_type": "code",
      "source": [
        "loaded_model_0 = LinearRegressionModel()\n",
        "loaded_model_0.load_state_dict(torch.load(model_save_path))\n",
        "loaded_model_0.state_dict()"
      ],
      "metadata": {
        "colab": {
          "base_uri": "https://localhost:8080/"
        },
        "id": "LEMwcwoUlvCL",
        "outputId": "cccefce4-cbe7-4244-e104-270194b195bb"
      },
      "execution_count": null,
      "outputs": [
        {
          "output_type": "execute_result",
          "data": {
            "text/plain": [
              "OrderedDict([('weights', tensor([0.7081])), ('bias', tensor([0.2911]))])"
            ]
          },
          "metadata": {},
          "execution_count": 36
        }
      ]
    },
    {
      "cell_type": "code",
      "source": [
        "loaded_model_0.eval()\n",
        "with torch.inference_mode():\n",
        "  y_pred_loaded_model= loaded_model_0(X_test)\n",
        "y_pred_loaded_model"
      ],
      "metadata": {
        "colab": {
          "base_uri": "https://localhost:8080/"
        },
        "id": "imzG4BQbBg-c",
        "outputId": "3eb50e59-e7f1-4594-a694-d01fdf9272ce"
      },
      "execution_count": null,
      "outputs": [
        {
          "output_type": "execute_result",
          "data": {
            "text/plain": [
              "tensor([[0.8575],\n",
              "        [0.8717],\n",
              "        [0.8858],\n",
              "        [0.9000],\n",
              "        [0.9142],\n",
              "        [0.9283],\n",
              "        [0.9425],\n",
              "        [0.9567],\n",
              "        [0.9708],\n",
              "        [0.9850]])"
            ]
          },
          "metadata": {},
          "execution_count": 37
        }
      ]
    },
    {
      "cell_type": "code",
      "source": [
        "y_preds_new"
      ],
      "metadata": {
        "colab": {
          "base_uri": "https://localhost:8080/"
        },
        "id": "Ct-35JPsB5Kl",
        "outputId": "eea5c6e2-e308-46ef-f9fe-d154407a6b7c"
      },
      "execution_count": null,
      "outputs": [
        {
          "output_type": "execute_result",
          "data": {
            "text/plain": [
              "tensor([[0.8575],\n",
              "        [0.8717],\n",
              "        [0.8858],\n",
              "        [0.9000],\n",
              "        [0.9142],\n",
              "        [0.9283],\n",
              "        [0.9425],\n",
              "        [0.9567],\n",
              "        [0.9708],\n",
              "        [0.9850]])"
            ]
          },
          "metadata": {},
          "execution_count": 38
        }
      ]
    },
    {
      "cell_type": "code",
      "source": [
        "y_preds_new==y_pred_loaded_model"
      ],
      "metadata": {
        "colab": {
          "base_uri": "https://localhost:8080/"
        },
        "id": "8JDplxEYCAE1",
        "outputId": "ae82be50-fd48-45e4-8083-b637ec2cea64"
      },
      "execution_count": null,
      "outputs": [
        {
          "output_type": "execute_result",
          "data": {
            "text/plain": [
              "tensor([[True],\n",
              "        [True],\n",
              "        [True],\n",
              "        [True],\n",
              "        [True],\n",
              "        [True],\n",
              "        [True],\n",
              "        [True],\n",
              "        [True],\n",
              "        [True]])"
            ]
          },
          "metadata": {},
          "execution_count": 39
        }
      ]
    },
    {
      "cell_type": "markdown",
      "source": [
        "**6. All Together**"
      ],
      "metadata": {
        "id": "rGVIXRybMnpp"
      }
    },
    {
      "cell_type": "code",
      "source": [
        "import torch\n",
        "from torch import nn\n",
        "import matplotlib.pyplot as plt"
      ],
      "metadata": {
        "id": "XsZ51Eh5Mpvg"
      },
      "execution_count": null,
      "outputs": []
    },
    {
      "cell_type": "code",
      "source": [
        "# Setup device\n",
        "if torch.cuda.is_available():\n",
        "  device=\"cuda\"\n",
        "else:\n",
        "  device=\"cpu\"\n",
        "print(f\"using device:{device}\")"
      ],
      "metadata": {
        "id": "YjU6Y-NoNDmw",
        "colab": {
          "base_uri": "https://localhost:8080/"
        },
        "outputId": "2510d918-7813-4fe2-da92-a0c3dba946a5"
      },
      "execution_count": null,
      "outputs": [
        {
          "output_type": "stream",
          "name": "stdout",
          "text": [
            "using device:cpu\n"
          ]
        }
      ]
    },
    {
      "cell_type": "code",
      "source": [
        "# Data Processing\n",
        "# Create weight and bias\n",
        "weight = 0.7\n",
        "bias = 0.3\n",
        "\n",
        "# Create range values\n",
        "start = 0\n",
        "end = 1\n",
        "step = 0.02\n",
        "\n",
        "# Create X and y (features and labels)\n",
        "X = torch.arange(start, end, step).unsqueeze(dim=1) # without unsqueeze, errors will happen later on (shapes within linear layers)\n",
        "y = weight * X + bias \n",
        "X[:10], y[:10]"
      ],
      "metadata": {
        "colab": {
          "base_uri": "https://localhost:8080/"
        },
        "id": "VfAxAEimT0Mr",
        "outputId": "3f985129-3100-479d-9378-d522a5441af9"
      },
      "execution_count": null,
      "outputs": [
        {
          "output_type": "execute_result",
          "data": {
            "text/plain": [
              "(tensor([[0.0000],\n",
              "         [0.0200],\n",
              "         [0.0400],\n",
              "         [0.0600],\n",
              "         [0.0800],\n",
              "         [0.1000],\n",
              "         [0.1200],\n",
              "         [0.1400],\n",
              "         [0.1600],\n",
              "         [0.1800]]), tensor([[0.3000],\n",
              "         [0.3140],\n",
              "         [0.3280],\n",
              "         [0.3420],\n",
              "         [0.3560],\n",
              "         [0.3700],\n",
              "         [0.3840],\n",
              "         [0.3980],\n",
              "         [0.4120],\n",
              "         [0.4260]]))"
            ]
          },
          "metadata": {},
          "execution_count": 42
        }
      ]
    },
    {
      "cell_type": "code",
      "source": [
        "# Split data\n",
        "train_split = int(0.8 * len(X))\n",
        "X_train, y_train = X[:train_split], y[:train_split]\n",
        "X_test, y_test = X[train_split:], y[train_split:]\n",
        "\n",
        "len(X_train), len(y_train), len(X_test), len(y_test)"
      ],
      "metadata": {
        "colab": {
          "base_uri": "https://localhost:8080/"
        },
        "id": "WrgeCL_IV6ik",
        "outputId": "296b2dbd-e90a-4d23-d252-b2cf2b1801f4"
      },
      "execution_count": null,
      "outputs": [
        {
          "output_type": "execute_result",
          "data": {
            "text/plain": [
              "(40, 40, 10, 10)"
            ]
          },
          "metadata": {},
          "execution_count": 43
        }
      ]
    },
    {
      "cell_type": "code",
      "source": [
        "plot_predictions(X_train, y_train, X_test, y_test)"
      ],
      "metadata": {
        "colab": {
          "base_uri": "https://localhost:8080/",
          "height": 428
        },
        "id": "BBYiuFAcWe-K",
        "outputId": "183e090e-822b-41ca-916a-eab5515093b9"
      },
      "execution_count": null,
      "outputs": [
        {
          "output_type": "display_data",
          "data": {
            "text/plain": [
              "<Figure size 720x504 with 1 Axes>"
            ],
            "image/png": "[encoded data removed]"
          },
          "metadata": {
            "needs_background": "light"
          }
        }
      ]
    },
    {
      "cell_type": "code",
      "source": [
        "# build model\n",
        "# Subclass nn.Module to make our model\n",
        "class LinearRegressionModelV2(nn.Module):\n",
        "    def __init__(self):\n",
        "        super().__init__()\n",
        "        # Use nn.Linear() for creating the model parameters\n",
        "        self.linear_layer = nn.Linear(in_features=1, \n",
        "                                      out_features=1)\n",
        "    \n",
        "    # Define the forward computation (input data x flows through nn.Linear())\n",
        "    def forward(self, x: torch.Tensor) -> torch.Tensor:\n",
        "        return self.linear_layer(x)\n",
        "\n",
        "# Set the manual seed when creating the model (this isn't always need but is used for demonstrative purposes, try commenting it out and seeing what happens)\n",
        "torch.manual_seed(42)\n",
        "model_1 = LinearRegressionModelV2()\n",
        "model_1, model_1.state_dict()    "
      ],
      "metadata": {
        "colab": {
          "base_uri": "https://localhost:8080/"
        },
        "id": "ZKmf81-cWn-1",
        "outputId": "17d06e76-5a4c-49bf-8708-089b704f47d6"
      },
      "execution_count": null,
      "outputs": [
        {
          "output_type": "execute_result",
          "data": {
            "text/plain": [
              "(LinearRegressionModelV2(\n",
              "   (linear_layer): Linear(in_features=1, out_features=1, bias=True)\n",
              " ),\n",
              " OrderedDict([('linear_layer.weight', tensor([[0.7645]])),\n",
              "              ('linear_layer.bias', tensor([0.8300]))]))"
            ]
          },
          "metadata": {},
          "execution_count": 45
        }
      ]
    },
    {
      "cell_type": "code",
      "source": [
        "# Check model device\n",
        "next(model_1.parameters()).device"
      ],
      "metadata": {
        "colab": {
          "base_uri": "https://localhost:8080/"
        },
        "id": "Opvb1abjkAcB",
        "outputId": "24168850-f893-4a97-fd35-8e5185d47dcc"
      },
      "execution_count": null,
      "outputs": [
        {
          "output_type": "execute_result",
          "data": {
            "text/plain": [
              "device(type='cpu')"
            ]
          },
          "metadata": {},
          "execution_count": 46
        }
      ]
    },
    {
      "cell_type": "code",
      "source": [
        "# Set model to GPU if it's availalble, otherwise it'll default to CPU\n",
        "model_1.to(device) # the device variable was set above to be \"cuda\" if available or \"cpu\" if not\n",
        "next(model_1.parameters()).device"
      ],
      "metadata": {
        "colab": {
          "base_uri": "https://localhost:8080/"
        },
        "id": "nBB2x5fnkDWf",
        "outputId": "fec84296-d5cb-41b7-e50d-b3de37ca49e5"
      },
      "execution_count": null,
      "outputs": [
        {
          "output_type": "execute_result",
          "data": {
            "text/plain": [
              "device(type='cpu')"
            ]
          },
          "metadata": {},
          "execution_count": 47
        }
      ]
    },
    {
      "cell_type": "markdown",
      "source": [
        "For Training we need:\n",
        "\n",
        "\n",
        "*   Loss Function\n",
        "*   Optimizer\n",
        "*   Training Loop\n",
        "*   Testing Loop\n",
        "\n",
        "\n"
      ],
      "metadata": {
        "id": "86vjSlN5kwd5"
      }
    },
    {
      "cell_type": "code",
      "source": [
        "# Create loss function\n",
        "loss_fn = nn.L1Loss()\n",
        "\n",
        "# Create optimizer\n",
        "optimizer = torch.optim.SGD(params=model_1.parameters(), # optimize newly created model's parameters\n",
        "                            lr=0.01)"
      ],
      "metadata": {
        "id": "PZtcCKyIkurw"
      },
      "execution_count": null,
      "outputs": []
    },
    {
      "cell_type": "code",
      "source": [
        "torch.manual_seed(42)\n",
        "\n",
        "# Set the number of epochs \n",
        "epochs = 100\n",
        "\n",
        "# Put data on the available device\n",
        "# Without this, error will happen (not all model/data on device)\n",
        "X_train = X_train.to(device)\n",
        "X_test = X_test.to(device)\n",
        "y_train = y_train.to(device)\n",
        "y_test = y_test.to(device)\n",
        "\n",
        "for epoch in range(epochs):\n",
        "    ### Training\n",
        "    model_1.train() # train mode is on by default after construction\n",
        "\n",
        "    # 1. Forward pass\n",
        "    y_pred = model_1(X_train)\n",
        "\n",
        "    # 2. Calculate loss\n",
        "    loss = loss_fn(y_pred, y_train)\n",
        "\n",
        "    # 3. Zero grad optimizer\n",
        "    optimizer.zero_grad()\n",
        "\n",
        "    # 4. Loss backward\n",
        "    loss.backward()\n",
        "\n",
        "    # 5. Step the optimizer\n",
        "    optimizer.step()\n",
        "\n",
        "    ### Testing\n",
        "    model_1.eval() # put the model in evaluation mode for testing (inference)\n",
        "    # 1. Forward pass\n",
        "    with torch.inference_mode():\n",
        "        test_pred = model_1(X_test)\n",
        "    \n",
        "        # 2. Calculate the loss\n",
        "        test_loss = loss_fn(test_pred, y_test)\n",
        "\n",
        "    if epoch % 10 == 0:\n",
        "        print(f\"Epoch: {epoch} | Train loss: {loss} | Test loss: {test_loss}\")"
      ],
      "metadata": {
        "colab": {
          "base_uri": "https://localhost:8080/"
        },
        "id": "bSaF4_a9sMmM",
        "outputId": "d2508986-933f-4637-b426-e82518ba96f3"
      },
      "execution_count": null,
      "outputs": [
        {
          "output_type": "stream",
          "name": "stdout",
          "text": [
            "Epoch: 0 | Train loss: 0.5551779866218567 | Test loss: 0.5739762187004089\n",
            "Epoch: 10 | Train loss: 0.4399680495262146 | Test loss: 0.4392663538455963\n",
            "Epoch: 20 | Train loss: 0.3247582018375397 | Test loss: 0.30455657839775085\n",
            "Epoch: 30 | Train loss: 0.20954827964305878 | Test loss: 0.16984674334526062\n",
            "Epoch: 40 | Train loss: 0.09433844685554504 | Test loss: 0.03513689711689949\n",
            "Epoch: 50 | Train loss: 0.023886386305093765 | Test loss: 0.04784906655550003\n",
            "Epoch: 60 | Train loss: 0.0199567973613739 | Test loss: 0.04580312222242355\n",
            "Epoch: 70 | Train loss: 0.016517987474799156 | Test loss: 0.0375305712223053\n",
            "Epoch: 80 | Train loss: 0.013089170679450035 | Test loss: 0.029944902285933495\n",
            "Epoch: 90 | Train loss: 0.009653178043663502 | Test loss: 0.02167237363755703\n"
          ]
        }
      ]
    },
    {
      "cell_type": "code",
      "source": [
        "# Find our model's learned parameters\n",
        "from pprint import pprint # pprint = pretty print, see: https://docs.python.org/3/library/pprint.html \n",
        "print(\"The model learned the following values for weights and bias:\")\n",
        "pprint(model_1.state_dict())\n",
        "print(\"\\nAnd the original values for weights and bias are:\")\n",
        "print(f\"weights: {weight}, bias: {bias}\")"
      ],
      "metadata": {
        "colab": {
          "base_uri": "https://localhost:8080/"
        },
        "id": "2Ghn4OXpsoYk",
        "outputId": "818cc1c0-3873-49c6-d3f7-98d0e684dc20"
      },
      "execution_count": null,
      "outputs": [
        {
          "output_type": "stream",
          "name": "stdout",
          "text": [
            "The model learned the following values for weights and bias:\n",
            "OrderedDict([('linear_layer.weight', tensor([[0.6691]])),\n",
            "             ('linear_layer.bias', tensor([0.3130]))])\n",
            "\n",
            "And the original values for weights and bias are:\n",
            "weights: 0.7, bias: 0.3\n"
          ]
        }
      ]
    },
    {
      "cell_type": "markdown",
      "source": [
        "**Making predictions**"
      ],
      "metadata": {
        "id": "jyVvt545tHuE"
      }
    },
    {
      "cell_type": "code",
      "source": [
        "# Turn model into evaluation mode\n",
        "model_1.eval()\n",
        "\n",
        "# Make predictions on the test data\n",
        "with torch.inference_mode():\n",
        "    y_preds = model_1(X_test)\n",
        "y_preds"
      ],
      "metadata": {
        "colab": {
          "base_uri": "https://localhost:8080/"
        },
        "id": "7ld633v-tKI9",
        "outputId": "f52de8b3-c2b0-4715-f783-ab598ee879f1"
      },
      "execution_count": null,
      "outputs": [
        {
          "output_type": "execute_result",
          "data": {
            "text/plain": [
              "tensor([[0.8483],\n",
              "        [0.8617],\n",
              "        [0.8750],\n",
              "        [0.8884],\n",
              "        [0.9018],\n",
              "        [0.9152],\n",
              "        [0.9286],\n",
              "        [0.9420],\n",
              "        [0.9553],\n",
              "        [0.9687]])"
            ]
          },
          "metadata": {},
          "execution_count": 51
        }
      ]
    },
    {
      "cell_type": "code",
      "source": [
        "# plot_predictions(predictions=y_preds) # -> won't work... data not on CPU\n",
        "\n",
        "# Put data on the CPU and plot it\n",
        "plot_predictions(predictions=y_preds.cpu())"
      ],
      "metadata": {
        "colab": {
          "base_uri": "https://localhost:8080/",
          "height": 428
        },
        "id": "UcB8TXYKtOmW",
        "outputId": "9c77fea7-4a54-4c7d-ac20-e9116c1af465"
      },
      "execution_count": null,
      "outputs": [
        {
          "output_type": "display_data",
          "data": {
            "text/plain": [
              "<Figure size 720x504 with 1 Axes>"
            ],
            "image/png": "[encoded data removed]"
          },
          "metadata": {
            "needs_background": "light"
          }
        }
      ]
    },
    {
      "cell_type": "markdown",
      "source": [
        "**Saving and loading a model**"
      ],
      "metadata": {
        "id": "2NRj-fKatkW1"
      }
    },
    {
      "cell_type": "code",
      "source": [
        "from pathlib import Path\n",
        "\n",
        "# 1. Create models directory \n",
        "MODEL_PATH = Path(\"models\")\n",
        "MODEL_PATH.mkdir(parents=True, exist_ok=True)\n",
        "\n",
        "# 2. Create model save path \n",
        "MODEL_NAME = \"01_pytorch_nn_2.pth\"\n",
        "MODEL_SAVE_PATH = MODEL_PATH / MODEL_NAME\n",
        "\n",
        "# 3. Save the model state dict \n",
        "print(f\"Saving model to: {MODEL_SAVE_PATH}\")\n",
        "torch.save(obj=model_1.state_dict(), # only saving the state_dict() only saves the models learned parameters\n",
        "           f=MODEL_SAVE_PATH) "
      ],
      "metadata": {
        "colab": {
          "base_uri": "https://localhost:8080/"
        },
        "id": "FbzG_mZ5tmnm",
        "outputId": "5416155e-d2c9-4d59-dbeb-9139a5392606"
      },
      "execution_count": null,
      "outputs": [
        {
          "output_type": "stream",
          "name": "stdout",
          "text": [
            "Saving model to: models/01_pytorch_nn_2.pth\n"
          ]
        }
      ]
    },
    {
      "cell_type": "code",
      "source": [
        "# Instantiate a fresh instance of LinearRegressionModelV2\n",
        "loaded_model_1 = LinearRegressionModelV2()\n",
        "\n",
        "# Load model state dict \n",
        "loaded_model_1.load_state_dict(torch.load(MODEL_SAVE_PATH))\n",
        "\n",
        "# Put model to target device (if your data is on GPU, model will have to be on GPU to make predictions)\n",
        "loaded_model_1.to(device)\n",
        "\n",
        "print(f\"Loaded model:\\n{loaded_model_1}\")\n",
        "print(f\"Model on device:\\n{next(loaded_model_1.parameters()).device}\")"
      ],
      "metadata": {
        "colab": {
          "base_uri": "https://localhost:8080/"
        },
        "id": "Dn_7OGpEtvYz",
        "outputId": "ca8df365-ce97-458f-d9c4-c17cf15d5252"
      },
      "execution_count": null,
      "outputs": [
        {
          "output_type": "stream",
          "name": "stdout",
          "text": [
            "Loaded model:\n",
            "LinearRegressionModelV2(\n",
            "  (linear_layer): Linear(in_features=1, out_features=1, bias=True)\n",
            ")\n",
            "Model on device:\n",
            "cpu\n"
          ]
        }
      ]
    },
    {
      "cell_type": "code",
      "source": [
        "# Evaluate loaded model\n",
        "loaded_model_1.eval()\n",
        "with torch.inference_mode():\n",
        "    loaded_model_1_preds = loaded_model_1(X_test)\n",
        "y_preds == loaded_model_1_preds"
      ],
      "metadata": {
        "colab": {
          "base_uri": "https://localhost:8080/"
        },
        "id": "VRprPrCnuC_g",
        "outputId": "4d4078a4-92cd-4605-9ccb-66e0a0fea142"
      },
      "execution_count": null,
      "outputs": [
        {
          "output_type": "execute_result",
          "data": {
            "text/plain": [
              "tensor([[True],\n",
              "        [True],\n",
              "        [True],\n",
              "        [True],\n",
              "        [True],\n",
              "        [True],\n",
              "        [True],\n",
              "        [True],\n",
              "        [True],\n",
              "        [True]])"
            ]
          },
          "metadata": {},
          "execution_count": 55
        }
      ]
    },
    {
      "cell_type": "markdown",
      "source": [
        "### For all exercises, your code should be device agnostic (meaning it could run on CPU or GPU if it's available).\n",
        "\n",
        " Create a straight line dataset using the linear regression formula (weight * X \n",
        "\n",
        "1.   Create a straight line dataset using the linear regression formula (weight * X + bias).\n",
        "  + Set weight=0.3 and bias=0.9 there should be at least 100 datapoints total\n",
        "  + Split the data into 80% training, 20% testing.\n",
        "  + Plot the training and testing data so it becomes visual.\n",
        "\n",
        "2.   Build a PyTorch model by subclassing nn.Module.\n",
        " + Inside should be a randomly initialized nn.Parameter() with requires_grad=True, one for weights and one for bias.\n",
        " + Implement the forward() method to compute the linear regression function you used to create the dataset in 1.\n",
        " + Once you've constructed the model, make an instance of it and check its state_dict().\n",
        " + Note: If you'd like to use nn.Linear() instead of nn.Parameter() you can. \n",
        "\n",
        "\n",
        "\n",
        "3.   Create a loss function and optimizer using nn.L1Loss() and torch.optim.SGD(params, lr) respectively.\n",
        " + Set the learning rate of the optimizer to be 0.01 and the parameters to optimize should be the model parameters             from the model you created in 2.\n",
        " + Write a training loop to perform the appropriate training steps for 300 epochs.\n",
        " + The training loop should test the model on the test dataset every 20 epochs.\n",
        "\n",
        "4.   Make predictions with the trained model on the test data.\n",
        " +  Visualize these predictions against the original training and testing data (note: you may need to make sure the             predictions are not on the GPU if you want to use non-CUDA-enabled libraries such as matplotlib to plot).\n",
        "\n",
        "\n",
        "5.   Save your trained model's state_dict() to file.\n",
        " + Create a new instance of your model class you made in 2. and load in the state_dict() you just saved to it.\n",
        "  + Perform predictions on your test data with the loaded model and confirm they match the original model predictions from 4.\n",
        "\n",
        "        \n",
        "        "
      ],
      "metadata": {
        "id": "Ws3gWztevAyL"
      }
    },
    {
      "cell_type": "markdown",
      "source": [
        "# 1.1"
      ],
      "metadata": {
        "id": "eU1HQCJUvIkr"
      }
    },
    {
      "cell_type": "code",
      "source": [
        "import torch\n",
        "import matplotlib.pyplot as plt\n",
        "from torch import nn"
      ],
      "metadata": {
        "id": "ZiE27_68knpM"
      },
      "execution_count": null,
      "outputs": []
    },
    {
      "cell_type": "code",
      "source": [
        "weight=0.3 \n",
        "bias=0.9\n",
        "start=0\n",
        "end=1\n",
        "step=0.01"
      ],
      "metadata": {
        "id": "7E9FNHQSvRXx"
      },
      "execution_count": null,
      "outputs": []
    },
    {
      "cell_type": "code",
      "source": [
        "X = torch.arange(start,end,step).unsqueeze(dim=1)\n",
        "y = weight*X+bias"
      ],
      "metadata": {
        "id": "XPPR2bIMvUSs"
      },
      "execution_count": null,
      "outputs": []
    },
    {
      "cell_type": "code",
      "source": [
        "len(X)"
      ],
      "metadata": {
        "colab": {
          "base_uri": "https://localhost:8080/"
        },
        "id": "Lxb76vX3vXOi",
        "outputId": "0b58cfbe-0276-4708-8b1a-7c2cbca0d10b"
      },
      "execution_count": null,
      "outputs": [
        {
          "output_type": "execute_result",
          "data": {
            "text/plain": [
              "100"
            ]
          },
          "metadata": {},
          "execution_count": 59
        }
      ]
    },
    {
      "cell_type": "code",
      "source": [
        "split = int((len(X)*0.8))\n",
        "split"
      ],
      "metadata": {
        "colab": {
          "base_uri": "https://localhost:8080/"
        },
        "id": "j8uhJ0DLwLmj",
        "outputId": "2398573e-f6c7-469d-a6c3-6c7d6d3272e2"
      },
      "execution_count": null,
      "outputs": [
        {
          "output_type": "execute_result",
          "data": {
            "text/plain": [
              "80"
            ]
          },
          "metadata": {},
          "execution_count": 60
        }
      ]
    },
    {
      "cell_type": "code",
      "source": [
        "X_train = X[:split]\n",
        "y_train = y[:split]\n",
        "X_test = X[split:]\n",
        "y_test = y[split:]"
      ],
      "metadata": {
        "id": "fd_FbALZwOCL"
      },
      "execution_count": null,
      "outputs": []
    },
    {
      "cell_type": "code",
      "source": [
        "len(X_train)"
      ],
      "metadata": {
        "colab": {
          "base_uri": "https://localhost:8080/"
        },
        "id": "ZFQDwuAAwP8T",
        "outputId": "1b389a2b-3160-4cac-cc59-b23ff8e68812"
      },
      "execution_count": null,
      "outputs": [
        {
          "output_type": "execute_result",
          "data": {
            "text/plain": [
              "80"
            ]
          },
          "metadata": {},
          "execution_count": 62
        }
      ]
    },
    {
      "cell_type": "code",
      "source": [
        "def plot_predictions(train_data=X_train, \n",
        "                     train_labels=y_train, \n",
        "                     test_data=X_test, \n",
        "                     test_labels=y_test, \n",
        "                     predictions=None):\n",
        "  \"\"\"\n",
        "  Plots training data, test data and compares predictions.\n",
        "  \"\"\"\n",
        "  plt.figure(figsize=(10, 7))\n",
        "\n",
        "  # Plot training data in blue\n",
        "  plt.scatter(train_data, train_labels, c=\"b\", s=4, label=\"Training data\")\n",
        "  \n",
        "  # Plot test data in green\n",
        "  plt.scatter(test_data, test_labels, c=\"g\", s=4, label=\"Testing data\")\n",
        "\n",
        "  if predictions is not None:\n",
        "    # Plot the predictions in red (predictions were made on the test data)\n",
        "    plt.scatter(test_data, predictions, c=\"r\", s=4, label=\"Predictions\")\n",
        "\n",
        "  # Show the legend\n",
        "  plt.legend(prop={\"size\": 14});"
      ],
      "metadata": {
        "id": "whqD44EVwRZL"
      },
      "execution_count": null,
      "outputs": []
    },
    {
      "cell_type": "code",
      "source": [
        "plot_predictions()"
      ],
      "metadata": {
        "colab": {
          "base_uri": "https://localhost:8080/",
          "height": 428
        },
        "id": "Mm9ddSbQwTjI",
        "outputId": "8b8b9aff-579c-4e46-ce5c-c25c26c103eb"
      },
      "execution_count": null,
      "outputs": [
        {
          "output_type": "display_data",
          "data": {
            "text/plain": [
              "<Figure size 720x504 with 1 Axes>"
            ],
            "image/png": "[encoded data removed]"
          },
          "metadata": {
            "needs_background": "light"
          }
        }
      ]
    },
    {
      "cell_type": "code",
      "source": [
        "# build model\n",
        "# Subclass nn.Module to make our model\n",
        "class LinearRegressionModelV2(nn.Module):\n",
        "  def __init__(self):\n",
        "    super().__init__()\n",
        "    # Use nn.Linear() for creating the model parameters\n",
        "    self.linear_layer = nn.Linear(in_features=1, \n",
        "                                      out_features=1)\n",
        "    # Define the forward computation (input data x flows through nn.Linear())\n",
        "  def forward(self, x: torch.Tensor) -> torch.Tensor:\n",
        "    return self.linear_layer(x)\n",
        "# Set the manual seed when creating the model (this isn't always need but is used for demonstrative purposes, try commenting it out and seeing what happens)\n",
        "  torch.manual_seed(42)\n",
        "  model_1 = LinearRegressionModelV2()"
      ],
      "metadata": {
        "id": "m8ltM2KH6JPY"
      },
      "execution_count": null,
      "outputs": []
    },
    {
      "cell_type": "code",
      "source": [
        "# Create loss function\n",
        "loss_fn = nn.L1Loss()\n",
        "\n",
        "# Create optimizer\n",
        "optimizer = torch.optim.SGD(params=model_1.parameters(), # optimize newly created model's parameters\n",
        "                            lr=0.01)"
      ],
      "metadata": {
        "id": "9scozvZL9dJw"
      },
      "execution_count": null,
      "outputs": []
    },
    {
      "cell_type": "code",
      "source": [
        "torch.manual_seed(42)\n",
        "\n",
        "# Set the number of epochs \n",
        "epochs = 300\n",
        "\n",
        "for epoch in range(epochs):\n",
        "    ### Training\n",
        "    model_1.train() # train mode is on by default after construction\n",
        "\n",
        "    # 1. Forward pass\n",
        "    y_pred = model_1(X_train)\n",
        "\n",
        "    # 2. Calculate loss\n",
        "    loss = loss_fn(y_pred, y_train)\n",
        "\n",
        "    # 3. Zero grad optimizer\n",
        "    optimizer.zero_grad()\n",
        "\n",
        "    # 4. Loss backward\n",
        "    loss.backward()\n",
        "\n",
        "    # 5. Step the optimizer\n",
        "    optimizer.step()\n",
        "    if epochs%20==0:\n",
        "      ### Testing\n",
        "      model_1.eval() # put the model in evaluation mode for testing (inference)\n",
        "      # 1. Forward pass\n",
        "      with torch.inference_mode():\n",
        "          test_pred = model_1(X_test)\n",
        "      \n",
        "          # 2. Calculate the loss\n",
        "          test_loss = loss_fn(test_pred, y_test)\n",
        "          print(f\"Epoch: {epoch} | Train loss: {loss} | Test loss: {test_loss}\")"
      ],
      "metadata": {
        "colab": {
          "base_uri": "https://localhost:8080/"
        },
        "id": "lhie3Dg99h8g",
        "outputId": "b727fa87-ef4a-49be-eadf-d9cc8f14d93d"
      },
      "execution_count": null,
      "outputs": [
        {
          "output_type": "stream",
          "name": "stdout",
          "text": [
            "Epoch: 0 | Train loss: 0.011264790780842304 | Test loss: 0.02564847469329834\n",
            "Epoch: 1 | Train loss: 0.010922081768512726 | Test loss: 0.02488369308412075\n",
            "Epoch: 2 | Train loss: 0.01057937927544117 | Test loss: 0.024118900299072266\n",
            "Epoch: 3 | Train loss: 0.010236674919724464 | Test loss: 0.02335413172841072\n",
            "Epoch: 4 | Train loss: 0.009893960319459438 | Test loss: 0.02258932590484619\n",
            "Epoch: 5 | Train loss: 0.009551259689033031 | Test loss: 0.02182454988360405\n",
            "Epoch: 6 | Train loss: 0.009209314361214638 | Test loss: 0.02071581408381462\n",
            "Epoch: 7 | Train loss: 0.008866818621754646 | Test loss: 0.019951004534959793\n",
            "Epoch: 8 | Train loss: 0.008524121716618538 | Test loss: 0.019186222925782204\n",
            "Epoch: 9 | Train loss: 0.008181417360901833 | Test loss: 0.018421489745378494\n",
            "Epoch: 10 | Train loss: 0.007838688790798187 | Test loss: 0.017656642943620682\n",
            "Epoch: 11 | Train loss: 0.007495990488678217 | Test loss: 0.01689189113676548\n",
            "Epoch: 12 | Train loss: 0.007153290323913097 | Test loss: 0.01612708531320095\n",
            "Epoch: 13 | Train loss: 0.006810843013226986 | Test loss: 0.015018368139863014\n",
            "Epoch: 14 | Train loss: 0.006468853447586298 | Test loss: 0.014253568835556507\n",
            "Epoch: 15 | Train loss: 0.006126148160547018 | Test loss: 0.01348879374563694\n",
            "Epoch: 16 | Train loss: 0.005783447064459324 | Test loss: 0.012724017724394798\n",
            "Epoch: 17 | Train loss: 0.0054407380521297455 | Test loss: 0.011959230527281761\n",
            "Epoch: 18 | Train loss: 0.005098027177155018 | Test loss: 0.011194437742233276\n",
            "Epoch: 19 | Train loss: 0.0047553242184221745 | Test loss: 0.010429644957184792\n",
            "Epoch: 20 | Train loss: 0.004412613809108734 | Test loss: 0.009664863348007202\n",
            "Epoch: 21 | Train loss: 0.004070647060871124 | Test loss: 0.008556115441024303\n",
            "Epoch: 22 | Train loss: 0.0037291839253157377 | Test loss: 0.008137536235153675\n",
            "Epoch: 23 | Train loss: 0.003387643489986658 | Test loss: 0.007028794381767511\n",
            "Epoch: 24 | Train loss: 0.003043191973119974 | Test loss: 0.006264018826186657\n",
            "Epoch: 25 | Train loss: 0.0027004845906049013 | Test loss: 0.005499219987541437\n",
            "Epoch: 26 | Train loss: 0.002357780933380127 | Test loss: 0.004734438844025135\n",
            "Epoch: 27 | Train loss: 0.0020150751806795597 | Test loss: 0.003969669342041016\n",
            "Epoch: 28 | Train loss: 0.0016726211179047823 | Test loss: 0.0028609216678887606\n",
            "Epoch: 29 | Train loss: 0.0013391419779509306 | Test loss: 0.0031414865516126156\n",
            "Epoch: 30 | Train loss: 0.001109052449464798 | Test loss: 0.0022353113163262606\n",
            "Epoch: 31 | Train loss: 0.003355099353939295 | Test loss: 0.01129993237555027\n",
            "Epoch: 32 | Train loss: 0.008205140009522438 | Test loss: 0.0022353113163262606\n",
            "Epoch: 33 | Train loss: 0.003355099353939295 | Test loss: 0.01129993237555027\n",
            "Epoch: 34 | Train loss: 0.008205140009522438 | Test loss: 0.0022353113163262606\n",
            "Epoch: 35 | Train loss: 0.003355099353939295 | Test loss: 0.01129993237555027\n",
            "Epoch: 36 | Train loss: 0.008205140009522438 | Test loss: 0.0022353113163262606\n",
            "Epoch: 37 | Train loss: 0.003355099353939295 | Test loss: 0.01129993237555027\n",
            "Epoch: 38 | Train loss: 0.008205140009522438 | Test loss: 0.0022353113163262606\n",
            "Epoch: 39 | Train loss: 0.003355099353939295 | Test loss: 0.01129993237555027\n",
            "Epoch: 40 | Train loss: 0.008205140009522438 | Test loss: 0.0022353113163262606\n",
            "Epoch: 41 | Train loss: 0.003355099353939295 | Test loss: 0.01129993237555027\n",
            "Epoch: 42 | Train loss: 0.008205140009522438 | Test loss: 0.0022353113163262606\n",
            "Epoch: 43 | Train loss: 0.003355099353939295 | Test loss: 0.01129993237555027\n",
            "Epoch: 44 | Train loss: 0.008205140009522438 | Test loss: 0.0022353113163262606\n",
            "Epoch: 45 | Train loss: 0.003355099353939295 | Test loss: 0.01129993237555027\n",
            "Epoch: 46 | Train loss: 0.008205140009522438 | Test loss: 0.0022353113163262606\n",
            "Epoch: 47 | Train loss: 0.003355099353939295 | Test loss: 0.01129993237555027\n",
            "Epoch: 48 | Train loss: 0.008205140009522438 | Test loss: 0.0022353113163262606\n",
            "Epoch: 49 | Train loss: 0.003355099353939295 | Test loss: 0.01129993237555027\n",
            "Epoch: 50 | Train loss: 0.008205140009522438 | Test loss: 0.0022353113163262606\n",
            "Epoch: 51 | Train loss: 0.003355099353939295 | Test loss: 0.01129993237555027\n",
            "Epoch: 52 | Train loss: 0.008205140009522438 | Test loss: 0.0022353113163262606\n",
            "Epoch: 53 | Train loss: 0.003355099353939295 | Test loss: 0.01129993237555027\n",
            "Epoch: 54 | Train loss: 0.008205140009522438 | Test loss: 0.0022353113163262606\n",
            "Epoch: 55 | Train loss: 0.003355099353939295 | Test loss: 0.01129993237555027\n",
            "Epoch: 56 | Train loss: 0.008205140009522438 | Test loss: 0.0022353113163262606\n",
            "Epoch: 57 | Train loss: 0.003355099353939295 | Test loss: 0.01129993237555027\n",
            "Epoch: 58 | Train loss: 0.008205140009522438 | Test loss: 0.0022353113163262606\n",
            "Epoch: 59 | Train loss: 0.003355099353939295 | Test loss: 0.01129993237555027\n",
            "Epoch: 60 | Train loss: 0.008205140009522438 | Test loss: 0.0022353113163262606\n",
            "Epoch: 61 | Train loss: 0.003355099353939295 | Test loss: 0.01129993237555027\n",
            "Epoch: 62 | Train loss: 0.008205140009522438 | Test loss: 0.0022353113163262606\n",
            "Epoch: 63 | Train loss: 0.003355099353939295 | Test loss: 0.01129993237555027\n",
            "Epoch: 64 | Train loss: 0.008205140009522438 | Test loss: 0.0022353113163262606\n",
            "Epoch: 65 | Train loss: 0.003355099353939295 | Test loss: 0.01129993237555027\n",
            "Epoch: 66 | Train loss: 0.008205140009522438 | Test loss: 0.0022353113163262606\n",
            "Epoch: 67 | Train loss: 0.003355099353939295 | Test loss: 0.01129993237555027\n",
            "Epoch: 68 | Train loss: 0.008205140009522438 | Test loss: 0.0022353113163262606\n",
            "Epoch: 69 | Train loss: 0.003355099353939295 | Test loss: 0.01129993237555027\n",
            "Epoch: 70 | Train loss: 0.008205140009522438 | Test loss: 0.0022353113163262606\n",
            "Epoch: 71 | Train loss: 0.003355099353939295 | Test loss: 0.01129993237555027\n",
            "Epoch: 72 | Train loss: 0.008205140009522438 | Test loss: 0.0022353113163262606\n",
            "Epoch: 73 | Train loss: 0.003355099353939295 | Test loss: 0.01129993237555027\n",
            "Epoch: 74 | Train loss: 0.008205140009522438 | Test loss: 0.0022353113163262606\n",
            "Epoch: 75 | Train loss: 0.003355099353939295 | Test loss: 0.01129993237555027\n",
            "Epoch: 76 | Train loss: 0.008205140009522438 | Test loss: 0.0022353113163262606\n",
            "Epoch: 77 | Train loss: 0.003355099353939295 | Test loss: 0.01129993237555027\n",
            "Epoch: 78 | Train loss: 0.008205140009522438 | Test loss: 0.0022353113163262606\n",
            "Epoch: 79 | Train loss: 0.003355099353939295 | Test loss: 0.01129993237555027\n",
            "Epoch: 80 | Train loss: 0.008205140009522438 | Test loss: 0.0022353113163262606\n",
            "Epoch: 81 | Train loss: 0.003355099353939295 | Test loss: 0.01129993237555027\n",
            "Epoch: 82 | Train loss: 0.008205140009522438 | Test loss: 0.0022353113163262606\n",
            "Epoch: 83 | Train loss: 0.003355099353939295 | Test loss: 0.01129993237555027\n",
            "Epoch: 84 | Train loss: 0.008205140009522438 | Test loss: 0.0022353113163262606\n",
            "Epoch: 85 | Train loss: 0.003355099353939295 | Test loss: 0.01129993237555027\n",
            "Epoch: 86 | Train loss: 0.008205140009522438 | Test loss: 0.0022353113163262606\n",
            "Epoch: 87 | Train loss: 0.003355099353939295 | Test loss: 0.01129993237555027\n",
            "Epoch: 88 | Train loss: 0.008205140009522438 | Test loss: 0.0022353113163262606\n",
            "Epoch: 89 | Train loss: 0.003355099353939295 | Test loss: 0.01129993237555027\n",
            "Epoch: 90 | Train loss: 0.008205140009522438 | Test loss: 0.0022353113163262606\n",
            "Epoch: 91 | Train loss: 0.003355099353939295 | Test loss: 0.01129993237555027\n",
            "Epoch: 92 | Train loss: 0.008205140009522438 | Test loss: 0.0022353113163262606\n",
            "Epoch: 93 | Train loss: 0.003355099353939295 | Test loss: 0.01129993237555027\n",
            "Epoch: 94 | Train loss: 0.008205140009522438 | Test loss: 0.0022353113163262606\n",
            "Epoch: 95 | Train loss: 0.003355099353939295 | Test loss: 0.01129993237555027\n",
            "Epoch: 96 | Train loss: 0.008205140009522438 | Test loss: 0.0022353113163262606\n",
            "Epoch: 97 | Train loss: 0.003355099353939295 | Test loss: 0.01129993237555027\n",
            "Epoch: 98 | Train loss: 0.008205140009522438 | Test loss: 0.0022353113163262606\n",
            "Epoch: 99 | Train loss: 0.003355099353939295 | Test loss: 0.01129993237555027\n",
            "Epoch: 100 | Train loss: 0.008205140009522438 | Test loss: 0.0022353113163262606\n",
            "Epoch: 101 | Train loss: 0.003355099353939295 | Test loss: 0.01129993237555027\n",
            "Epoch: 102 | Train loss: 0.008205140009522438 | Test loss: 0.0022353113163262606\n",
            "Epoch: 103 | Train loss: 0.003355099353939295 | Test loss: 0.01129993237555027\n",
            "Epoch: 104 | Train loss: 0.008205140009522438 | Test loss: 0.0022353113163262606\n",
            "Epoch: 105 | Train loss: 0.003355099353939295 | Test loss: 0.01129993237555027\n",
            "Epoch: 106 | Train loss: 0.008205140009522438 | Test loss: 0.0022353113163262606\n",
            "Epoch: 107 | Train loss: 0.003355099353939295 | Test loss: 0.01129993237555027\n",
            "Epoch: 108 | Train loss: 0.008205140009522438 | Test loss: 0.0022353113163262606\n",
            "Epoch: 109 | Train loss: 0.003355099353939295 | Test loss: 0.01129993237555027\n",
            "Epoch: 110 | Train loss: 0.008205140009522438 | Test loss: 0.0022353113163262606\n",
            "Epoch: 111 | Train loss: 0.003355099353939295 | Test loss: 0.01129993237555027\n",
            "Epoch: 112 | Train loss: 0.008205140009522438 | Test loss: 0.0022353113163262606\n",
            "Epoch: 113 | Train loss: 0.003355099353939295 | Test loss: 0.01129993237555027\n",
            "Epoch: 114 | Train loss: 0.008205140009522438 | Test loss: 0.0022353113163262606\n",
            "Epoch: 115 | Train loss: 0.003355099353939295 | Test loss: 0.01129993237555027\n",
            "Epoch: 116 | Train loss: 0.008205140009522438 | Test loss: 0.0022353113163262606\n",
            "Epoch: 117 | Train loss: 0.003355099353939295 | Test loss: 0.01129993237555027\n",
            "Epoch: 118 | Train loss: 0.008205140009522438 | Test loss: 0.0022353113163262606\n",
            "Epoch: 119 | Train loss: 0.003355099353939295 | Test loss: 0.01129993237555027\n",
            "Epoch: 120 | Train loss: 0.008205140009522438 | Test loss: 0.0022353113163262606\n",
            "Epoch: 121 | Train loss: 0.003355099353939295 | Test loss: 0.01129993237555027\n",
            "Epoch: 122 | Train loss: 0.008205140009522438 | Test loss: 0.0022353113163262606\n",
            "Epoch: 123 | Train loss: 0.003355099353939295 | Test loss: 0.01129993237555027\n",
            "Epoch: 124 | Train loss: 0.008205140009522438 | Test loss: 0.0022353113163262606\n",
            "Epoch: 125 | Train loss: 0.003355099353939295 | Test loss: 0.01129993237555027\n",
            "Epoch: 126 | Train loss: 0.008205140009522438 | Test loss: 0.0022353113163262606\n",
            "Epoch: 127 | Train loss: 0.003355099353939295 | Test loss: 0.01129993237555027\n",
            "Epoch: 128 | Train loss: 0.008205140009522438 | Test loss: 0.0022353113163262606\n",
            "Epoch: 129 | Train loss: 0.003355099353939295 | Test loss: 0.01129993237555027\n",
            "Epoch: 130 | Train loss: 0.008205140009522438 | Test loss: 0.0022353113163262606\n",
            "Epoch: 131 | Train loss: 0.003355099353939295 | Test loss: 0.01129993237555027\n",
            "Epoch: 132 | Train loss: 0.008205140009522438 | Test loss: 0.0022353113163262606\n",
            "Epoch: 133 | Train loss: 0.003355099353939295 | Test loss: 0.01129993237555027\n",
            "Epoch: 134 | Train loss: 0.008205140009522438 | Test loss: 0.0022353113163262606\n",
            "Epoch: 135 | Train loss: 0.003355099353939295 | Test loss: 0.01129993237555027\n",
            "Epoch: 136 | Train loss: 0.008205140009522438 | Test loss: 0.0022353113163262606\n",
            "Epoch: 137 | Train loss: 0.003355099353939295 | Test loss: 0.01129993237555027\n",
            "Epoch: 138 | Train loss: 0.008205140009522438 | Test loss: 0.0022353113163262606\n",
            "Epoch: 139 | Train loss: 0.003355099353939295 | Test loss: 0.01129993237555027\n",
            "Epoch: 140 | Train loss: 0.008205140009522438 | Test loss: 0.0022353113163262606\n",
            "Epoch: 141 | Train loss: 0.003355099353939295 | Test loss: 0.01129993237555027\n",
            "Epoch: 142 | Train loss: 0.008205140009522438 | Test loss: 0.0022353113163262606\n",
            "Epoch: 143 | Train loss: 0.003355099353939295 | Test loss: 0.01129993237555027\n",
            "Epoch: 144 | Train loss: 0.008205140009522438 | Test loss: 0.0022353113163262606\n",
            "Epoch: 145 | Train loss: 0.003355099353939295 | Test loss: 0.01129993237555027\n",
            "Epoch: 146 | Train loss: 0.008205140009522438 | Test loss: 0.0022353113163262606\n",
            "Epoch: 147 | Train loss: 0.003355099353939295 | Test loss: 0.01129993237555027\n",
            "Epoch: 148 | Train loss: 0.008205140009522438 | Test loss: 0.0022353113163262606\n",
            "Epoch: 149 | Train loss: 0.003355099353939295 | Test loss: 0.01129993237555027\n",
            "Epoch: 150 | Train loss: 0.008205140009522438 | Test loss: 0.0022353113163262606\n",
            "Epoch: 151 | Train loss: 0.003355099353939295 | Test loss: 0.01129993237555027\n",
            "Epoch: 152 | Train loss: 0.008205140009522438 | Test loss: 0.0022353113163262606\n",
            "Epoch: 153 | Train loss: 0.003355099353939295 | Test loss: 0.01129993237555027\n",
            "Epoch: 154 | Train loss: 0.008205140009522438 | Test loss: 0.0022353113163262606\n",
            "Epoch: 155 | Train loss: 0.003355099353939295 | Test loss: 0.01129993237555027\n",
            "Epoch: 156 | Train loss: 0.008205140009522438 | Test loss: 0.0022353113163262606\n",
            "Epoch: 157 | Train loss: 0.003355099353939295 | Test loss: 0.01129993237555027\n",
            "Epoch: 158 | Train loss: 0.008205140009522438 | Test loss: 0.0022353113163262606\n",
            "Epoch: 159 | Train loss: 0.003355099353939295 | Test loss: 0.01129993237555027\n",
            "Epoch: 160 | Train loss: 0.008205140009522438 | Test loss: 0.0022353113163262606\n",
            "Epoch: 161 | Train loss: 0.003355099353939295 | Test loss: 0.01129993237555027\n",
            "Epoch: 162 | Train loss: 0.008205140009522438 | Test loss: 0.0022353113163262606\n",
            "Epoch: 163 | Train loss: 0.003355099353939295 | Test loss: 0.01129993237555027\n",
            "Epoch: 164 | Train loss: 0.008205140009522438 | Test loss: 0.0022353113163262606\n",
            "Epoch: 165 | Train loss: 0.003355099353939295 | Test loss: 0.01129993237555027\n",
            "Epoch: 166 | Train loss: 0.008205140009522438 | Test loss: 0.0022353113163262606\n",
            "Epoch: 167 | Train loss: 0.003355099353939295 | Test loss: 0.01129993237555027\n",
            "Epoch: 168 | Train loss: 0.008205140009522438 | Test loss: 0.0022353113163262606\n",
            "Epoch: 169 | Train loss: 0.003355099353939295 | Test loss: 0.01129993237555027\n",
            "Epoch: 170 | Train loss: 0.008205140009522438 | Test loss: 0.0022353113163262606\n",
            "Epoch: 171 | Train loss: 0.003355099353939295 | Test loss: 0.01129993237555027\n",
            "Epoch: 172 | Train loss: 0.008205140009522438 | Test loss: 0.0022353113163262606\n",
            "Epoch: 173 | Train loss: 0.003355099353939295 | Test loss: 0.01129993237555027\n",
            "Epoch: 174 | Train loss: 0.008205140009522438 | Test loss: 0.0022353113163262606\n",
            "Epoch: 175 | Train loss: 0.003355099353939295 | Test loss: 0.01129993237555027\n",
            "Epoch: 176 | Train loss: 0.008205140009522438 | Test loss: 0.0022353113163262606\n",
            "Epoch: 177 | Train loss: 0.003355099353939295 | Test loss: 0.01129993237555027\n",
            "Epoch: 178 | Train loss: 0.008205140009522438 | Test loss: 0.0022353113163262606\n",
            "Epoch: 179 | Train loss: 0.003355099353939295 | Test loss: 0.01129993237555027\n",
            "Epoch: 180 | Train loss: 0.008205140009522438 | Test loss: 0.0022353113163262606\n",
            "Epoch: 181 | Train loss: 0.003355099353939295 | Test loss: 0.01129993237555027\n",
            "Epoch: 182 | Train loss: 0.008205140009522438 | Test loss: 0.0022353113163262606\n",
            "Epoch: 183 | Train loss: 0.003355099353939295 | Test loss: 0.01129993237555027\n",
            "Epoch: 184 | Train loss: 0.008205140009522438 | Test loss: 0.0022353113163262606\n",
            "Epoch: 185 | Train loss: 0.003355099353939295 | Test loss: 0.01129993237555027\n",
            "Epoch: 186 | Train loss: 0.008205140009522438 | Test loss: 0.0022353113163262606\n",
            "Epoch: 187 | Train loss: 0.003355099353939295 | Test loss: 0.01129993237555027\n",
            "Epoch: 188 | Train loss: 0.008205140009522438 | Test loss: 0.0022353113163262606\n",
            "Epoch: 189 | Train loss: 0.003355099353939295 | Test loss: 0.01129993237555027\n",
            "Epoch: 190 | Train loss: 0.008205140009522438 | Test loss: 0.0022353113163262606\n",
            "Epoch: 191 | Train loss: 0.003355099353939295 | Test loss: 0.01129993237555027\n",
            "Epoch: 192 | Train loss: 0.008205140009522438 | Test loss: 0.0022353113163262606\n",
            "Epoch: 193 | Train loss: 0.003355099353939295 | Test loss: 0.01129993237555027\n",
            "Epoch: 194 | Train loss: 0.008205140009522438 | Test loss: 0.0022353113163262606\n",
            "Epoch: 195 | Train loss: 0.003355099353939295 | Test loss: 0.01129993237555027\n",
            "Epoch: 196 | Train loss: 0.008205140009522438 | Test loss: 0.0022353113163262606\n",
            "Epoch: 197 | Train loss: 0.003355099353939295 | Test loss: 0.01129993237555027\n",
            "Epoch: 198 | Train loss: 0.008205140009522438 | Test loss: 0.0022353113163262606\n",
            "Epoch: 199 | Train loss: 0.003355099353939295 | Test loss: 0.01129993237555027\n",
            "Epoch: 200 | Train loss: 0.008205140009522438 | Test loss: 0.0022353113163262606\n",
            "Epoch: 201 | Train loss: 0.003355099353939295 | Test loss: 0.01129993237555027\n",
            "Epoch: 202 | Train loss: 0.008205140009522438 | Test loss: 0.0022353113163262606\n",
            "Epoch: 203 | Train loss: 0.003355099353939295 | Test loss: 0.01129993237555027\n",
            "Epoch: 204 | Train loss: 0.008205140009522438 | Test loss: 0.0022353113163262606\n",
            "Epoch: 205 | Train loss: 0.003355099353939295 | Test loss: 0.01129993237555027\n",
            "Epoch: 206 | Train loss: 0.008205140009522438 | Test loss: 0.0022353113163262606\n",
            "Epoch: 207 | Train loss: 0.003355099353939295 | Test loss: 0.01129993237555027\n",
            "Epoch: 208 | Train loss: 0.008205140009522438 | Test loss: 0.0022353113163262606\n",
            "Epoch: 209 | Train loss: 0.003355099353939295 | Test loss: 0.01129993237555027\n",
            "Epoch: 210 | Train loss: 0.008205140009522438 | Test loss: 0.0022353113163262606\n",
            "Epoch: 211 | Train loss: 0.003355099353939295 | Test loss: 0.01129993237555027\n",
            "Epoch: 212 | Train loss: 0.008205140009522438 | Test loss: 0.0022353113163262606\n",
            "Epoch: 213 | Train loss: 0.003355099353939295 | Test loss: 0.01129993237555027\n",
            "Epoch: 214 | Train loss: 0.008205140009522438 | Test loss: 0.0022353113163262606\n",
            "Epoch: 215 | Train loss: 0.003355099353939295 | Test loss: 0.01129993237555027\n",
            "Epoch: 216 | Train loss: 0.008205140009522438 | Test loss: 0.0022353113163262606\n",
            "Epoch: 217 | Train loss: 0.003355099353939295 | Test loss: 0.01129993237555027\n",
            "Epoch: 218 | Train loss: 0.008205140009522438 | Test loss: 0.0022353113163262606\n",
            "Epoch: 219 | Train loss: 0.003355099353939295 | Test loss: 0.01129993237555027\n",
            "Epoch: 220 | Train loss: 0.008205140009522438 | Test loss: 0.0022353113163262606\n",
            "Epoch: 221 | Train loss: 0.003355099353939295 | Test loss: 0.01129993237555027\n",
            "Epoch: 222 | Train loss: 0.008205140009522438 | Test loss: 0.0022353113163262606\n",
            "Epoch: 223 | Train loss: 0.003355099353939295 | Test loss: 0.01129993237555027\n",
            "Epoch: 224 | Train loss: 0.008205140009522438 | Test loss: 0.0022353113163262606\n",
            "Epoch: 225 | Train loss: 0.003355099353939295 | Test loss: 0.01129993237555027\n",
            "Epoch: 226 | Train loss: 0.008205140009522438 | Test loss: 0.0022353113163262606\n",
            "Epoch: 227 | Train loss: 0.003355099353939295 | Test loss: 0.01129993237555027\n",
            "Epoch: 228 | Train loss: 0.008205140009522438 | Test loss: 0.0022353113163262606\n",
            "Epoch: 229 | Train loss: 0.003355099353939295 | Test loss: 0.01129993237555027\n",
            "Epoch: 230 | Train loss: 0.008205140009522438 | Test loss: 0.0022353113163262606\n",
            "Epoch: 231 | Train loss: 0.003355099353939295 | Test loss: 0.01129993237555027\n",
            "Epoch: 232 | Train loss: 0.008205140009522438 | Test loss: 0.0022353113163262606\n",
            "Epoch: 233 | Train loss: 0.003355099353939295 | Test loss: 0.01129993237555027\n",
            "Epoch: 234 | Train loss: 0.008205140009522438 | Test loss: 0.0022353113163262606\n",
            "Epoch: 235 | Train loss: 0.003355099353939295 | Test loss: 0.01129993237555027\n",
            "Epoch: 236 | Train loss: 0.008205140009522438 | Test loss: 0.0022353113163262606\n",
            "Epoch: 237 | Train loss: 0.003355099353939295 | Test loss: 0.01129993237555027\n",
            "Epoch: 238 | Train loss: 0.008205140009522438 | Test loss: 0.0022353113163262606\n",
            "Epoch: 239 | Train loss: 0.003355099353939295 | Test loss: 0.01129993237555027\n",
            "Epoch: 240 | Train loss: 0.008205140009522438 | Test loss: 0.0022353113163262606\n",
            "Epoch: 241 | Train loss: 0.003355099353939295 | Test loss: 0.01129993237555027\n",
            "Epoch: 242 | Train loss: 0.008205140009522438 | Test loss: 0.0022353113163262606\n",
            "Epoch: 243 | Train loss: 0.003355099353939295 | Test loss: 0.01129993237555027\n",
            "Epoch: 244 | Train loss: 0.008205140009522438 | Test loss: 0.0022353113163262606\n",
            "Epoch: 245 | Train loss: 0.003355099353939295 | Test loss: 0.01129993237555027\n",
            "Epoch: 246 | Train loss: 0.008205140009522438 | Test loss: 0.0022353113163262606\n",
            "Epoch: 247 | Train loss: 0.003355099353939295 | Test loss: 0.01129993237555027\n",
            "Epoch: 248 | Train loss: 0.008205140009522438 | Test loss: 0.0022353113163262606\n",
            "Epoch: 249 | Train loss: 0.003355099353939295 | Test loss: 0.01129993237555027\n",
            "Epoch: 250 | Train loss: 0.008205140009522438 | Test loss: 0.0022353113163262606\n",
            "Epoch: 251 | Train loss: 0.003355099353939295 | Test loss: 0.01129993237555027\n",
            "Epoch: 252 | Train loss: 0.008205140009522438 | Test loss: 0.0022353113163262606\n",
            "Epoch: 253 | Train loss: 0.003355099353939295 | Test loss: 0.01129993237555027\n",
            "Epoch: 254 | Train loss: 0.008205140009522438 | Test loss: 0.0022353113163262606\n",
            "Epoch: 255 | Train loss: 0.003355099353939295 | Test loss: 0.01129993237555027\n",
            "Epoch: 256 | Train loss: 0.008205140009522438 | Test loss: 0.0022353113163262606\n",
            "Epoch: 257 | Train loss: 0.003355099353939295 | Test loss: 0.01129993237555027\n",
            "Epoch: 258 | Train loss: 0.008205140009522438 | Test loss: 0.0022353113163262606\n",
            "Epoch: 259 | Train loss: 0.003355099353939295 | Test loss: 0.01129993237555027\n",
            "Epoch: 260 | Train loss: 0.008205140009522438 | Test loss: 0.0022353113163262606\n",
            "Epoch: 261 | Train loss: 0.003355099353939295 | Test loss: 0.01129993237555027\n",
            "Epoch: 262 | Train loss: 0.008205140009522438 | Test loss: 0.0022353113163262606\n",
            "Epoch: 263 | Train loss: 0.003355099353939295 | Test loss: 0.01129993237555027\n",
            "Epoch: 264 | Train loss: 0.008205140009522438 | Test loss: 0.0022353113163262606\n",
            "Epoch: 265 | Train loss: 0.003355099353939295 | Test loss: 0.01129993237555027\n",
            "Epoch: 266 | Train loss: 0.008205140009522438 | Test loss: 0.0022353113163262606\n",
            "Epoch: 267 | Train loss: 0.003355099353939295 | Test loss: 0.01129993237555027\n",
            "Epoch: 268 | Train loss: 0.008205140009522438 | Test loss: 0.0022353113163262606\n",
            "Epoch: 269 | Train loss: 0.003355099353939295 | Test loss: 0.01129993237555027\n",
            "Epoch: 270 | Train loss: 0.008205140009522438 | Test loss: 0.0022353113163262606\n",
            "Epoch: 271 | Train loss: 0.003355099353939295 | Test loss: 0.01129993237555027\n",
            "Epoch: 272 | Train loss: 0.008205140009522438 | Test loss: 0.0022353113163262606\n",
            "Epoch: 273 | Train loss: 0.003355099353939295 | Test loss: 0.01129993237555027\n",
            "Epoch: 274 | Train loss: 0.008205140009522438 | Test loss: 0.0022353113163262606\n",
            "Epoch: 275 | Train loss: 0.003355099353939295 | Test loss: 0.01129993237555027\n",
            "Epoch: 276 | Train loss: 0.008205140009522438 | Test loss: 0.0022353113163262606\n",
            "Epoch: 277 | Train loss: 0.003355099353939295 | Test loss: 0.01129993237555027\n",
            "Epoch: 278 | Train loss: 0.008205140009522438 | Test loss: 0.0022353113163262606\n",
            "Epoch: 279 | Train loss: 0.003355099353939295 | Test loss: 0.01129993237555027\n",
            "Epoch: 280 | Train loss: 0.008205140009522438 | Test loss: 0.0022353113163262606\n",
            "Epoch: 281 | Train loss: 0.003355099353939295 | Test loss: 0.01129993237555027\n",
            "Epoch: 282 | Train loss: 0.008205140009522438 | Test loss: 0.0022353113163262606\n",
            "Epoch: 283 | Train loss: 0.003355099353939295 | Test loss: 0.01129993237555027\n",
            "Epoch: 284 | Train loss: 0.008205140009522438 | Test loss: 0.0022353113163262606\n",
            "Epoch: 285 | Train loss: 0.003355099353939295 | Test loss: 0.01129993237555027\n",
            "Epoch: 286 | Train loss: 0.008205140009522438 | Test loss: 0.0022353113163262606\n",
            "Epoch: 287 | Train loss: 0.003355099353939295 | Test loss: 0.01129993237555027\n",
            "Epoch: 288 | Train loss: 0.008205140009522438 | Test loss: 0.0022353113163262606\n",
            "Epoch: 289 | Train loss: 0.003355099353939295 | Test loss: 0.01129993237555027\n",
            "Epoch: 290 | Train loss: 0.008205140009522438 | Test loss: 0.0022353113163262606\n",
            "Epoch: 291 | Train loss: 0.003355099353939295 | Test loss: 0.01129993237555027\n",
            "Epoch: 292 | Train loss: 0.008205140009522438 | Test loss: 0.0022353113163262606\n",
            "Epoch: 293 | Train loss: 0.003355099353939295 | Test loss: 0.01129993237555027\n",
            "Epoch: 294 | Train loss: 0.008205140009522438 | Test loss: 0.0022353113163262606\n",
            "Epoch: 295 | Train loss: 0.003355099353939295 | Test loss: 0.01129993237555027\n",
            "Epoch: 296 | Train loss: 0.008205140009522438 | Test loss: 0.0022353113163262606\n",
            "Epoch: 297 | Train loss: 0.003355099353939295 | Test loss: 0.01129993237555027\n",
            "Epoch: 298 | Train loss: 0.008205140009522438 | Test loss: 0.0022353113163262606\n",
            "Epoch: 299 | Train loss: 0.003355099353939295 | Test loss: 0.01129993237555027\n"
          ]
        }
      ]
    },
    {
      "cell_type": "code",
      "source": [
        "# Turn model into evaluation mode\n",
        "model_1.eval()\n",
        "\n",
        "# Make predictions on the test data\n",
        "with torch.inference_mode():\n",
        "    y_preds = model_1(X_test)\n",
        "y_preds"
      ],
      "metadata": {
        "colab": {
          "base_uri": "https://localhost:8080/"
        },
        "id": "R9I8JL4TJudu",
        "outputId": "556b2181-1f9f-4cee-be87-17e4cfa7a88b"
      },
      "execution_count": null,
      "outputs": [
        {
          "output_type": "execute_result",
          "data": {
            "text/plain": [
              "tensor([[1.1507],\n",
              "        [1.1538],\n",
              "        [1.1568],\n",
              "        [1.1599],\n",
              "        [1.1630],\n",
              "        [1.1660],\n",
              "        [1.1691],\n",
              "        [1.1721],\n",
              "        [1.1752],\n",
              "        [1.1783],\n",
              "        [1.1813],\n",
              "        [1.1844],\n",
              "        [1.1875],\n",
              "        [1.1905],\n",
              "        [1.1936],\n",
              "        [1.1966],\n",
              "        [1.1997],\n",
              "        [1.2028],\n",
              "        [1.2058],\n",
              "        [1.2089]])"
            ]
          },
          "metadata": {},
          "execution_count": 69
        }
      ]
    },
    {
      "cell_type": "code",
      "source": [
        "plot_predictions(predictions=y_preds)"
      ],
      "metadata": {
        "id": "tBm-o3n46JfB",
        "colab": {
          "base_uri": "https://localhost:8080/",
          "height": 428
        },
        "outputId": "d1b5260a-a80b-486a-de02-baa45067c93c"
      },
      "execution_count": null,
      "outputs": [
        {
          "output_type": "display_data",
          "data": {
            "text/plain": [
              "<Figure size 720x504 with 1 Axes>"
            ],
            "image/png": "[encoded data removed]"
          },
          "metadata": {
            "needs_background": "light"
          }
        }
      ]
    },
    {
      "cell_type": "code",
      "source": [
        "from pathlib import Path\n",
        "\n",
        "# 1. Create models directory \n",
        "MODEL_PATH = Path(\"models\")\n",
        "MODEL_PATH.mkdir(parents=True, exist_ok=True)\n",
        "\n",
        "# 2. Create model save path \n",
        "MODEL_NAME = \"01_practice_model.pth\"\n",
        "MODEL_SAVE_PATH = MODEL_PATH / MODEL_NAME\n",
        "\n",
        "# 3. Save the model state dict \n",
        "print(f\"Saving model to: {MODEL_SAVE_PATH}\")\n",
        "torch.save(obj=model_1.state_dict(), # only saving the state_dict() only saves the models learned parameters\n",
        "           f=MODEL_SAVE_PATH) "
      ],
      "metadata": {
        "colab": {
          "base_uri": "https://localhost:8080/"
        },
        "id": "1E0DOvSMJ2a2",
        "outputId": "5c3cccaa-3646-4a7c-fa16-443ab26816d9"
      },
      "execution_count": null,
      "outputs": [
        {
          "output_type": "stream",
          "name": "stdout",
          "text": [
            "Saving model to: models/01_practice_model.pth\n"
          ]
        }
      ]
    },
    {
      "cell_type": "code",
      "source": [
        "# Instantiate a fresh instance of LinearRegressionModelV2\n",
        "loaded_model_practice = LinearRegressionModelV2()\n",
        "\n",
        "# Load model state dict \n",
        "loaded_model_practice.load_state_dict(torch.load(MODEL_SAVE_PATH))\n",
        "\n",
        "\n",
        "print(f\"Loaded model:\\n{loaded_model_practice}\")\n",
        "print(f\"Model on device:\\n{next(loaded_model_practice.parameters()).device}\")\n",
        "loaded_model_practice.state_dict()"
      ],
      "metadata": {
        "colab": {
          "base_uri": "https://localhost:8080/"
        },
        "id": "E3qDEGdDKWV0",
        "outputId": "00e9b375-209f-4c79-b13a-75f7b1a3651f"
      },
      "execution_count": null,
      "outputs": [
        {
          "output_type": "stream",
          "name": "stdout",
          "text": [
            "Loaded model:\n",
            "LinearRegressionModelV2(\n",
            "  (linear_layer): Linear(in_features=1, out_features=1, bias=True)\n",
            ")\n",
            "Model on device:\n",
            "cpu\n"
          ]
        },
        {
          "output_type": "execute_result",
          "data": {
            "text/plain": [
              "OrderedDict([('linear_layer.weight', tensor([[0.3062]])),\n",
              "             ('linear_layer.bias', tensor([0.9058]))])"
            ]
          },
          "metadata": {},
          "execution_count": 75
        }
      ]
    },
    {
      "cell_type": "code",
      "source": [
        "\n",
        "# Make predictions with loaded model and compare them to the previous\n",
        "y_preds_practice = loaded_model_practice(X_test)\n",
        "y_preds == y_preds_practice"
      ],
      "metadata": {
        "colab": {
          "base_uri": "https://localhost:8080/"
        },
        "id": "5awdwgrqKrtW",
        "outputId": "166f7fad-577d-442b-a807-859950b96bd5"
      },
      "execution_count": null,
      "outputs": [
        {
          "output_type": "execute_result",
          "data": {
            "text/plain": [
              "tensor([[True],\n",
              "        [True],\n",
              "        [True],\n",
              "        [True],\n",
              "        [True],\n",
              "        [True],\n",
              "        [True],\n",
              "        [True],\n",
              "        [True],\n",
              "        [True],\n",
              "        [True],\n",
              "        [True],\n",
              "        [True],\n",
              "        [True],\n",
              "        [True],\n",
              "        [True],\n",
              "        [True],\n",
              "        [True],\n",
              "        [True],\n",
              "        [True]])"
            ]
          },
          "metadata": {},
          "execution_count": 74
        }
      ]
    },
    {
      "cell_type": "code",
      "source": [
        "# Turn model into evaluation mode\n",
        "loaded_model_practice.eval()\n",
        "\n",
        "# Make predictions on the test data\n",
        "with torch.inference_mode():\n",
        "    y_preds_practice = loaded_model_practice(X_test)\n",
        "y_preds_practice"
      ],
      "metadata": {
        "colab": {
          "base_uri": "https://localhost:8080/"
        },
        "id": "52IeJ7k7LTSm",
        "outputId": "19f75e8d-2ff5-42a9-a171-4c0f51ca9ba3"
      },
      "execution_count": null,
      "outputs": [
        {
          "output_type": "execute_result",
          "data": {
            "text/plain": [
              "tensor([[1.1507],\n",
              "        [1.1538],\n",
              "        [1.1568],\n",
              "        [1.1599],\n",
              "        [1.1630],\n",
              "        [1.1660],\n",
              "        [1.1691],\n",
              "        [1.1721],\n",
              "        [1.1752],\n",
              "        [1.1783],\n",
              "        [1.1813],\n",
              "        [1.1844],\n",
              "        [1.1875],\n",
              "        [1.1905],\n",
              "        [1.1936],\n",
              "        [1.1966],\n",
              "        [1.1997],\n",
              "        [1.2028],\n",
              "        [1.2058],\n",
              "        [1.2089]])"
            ]
          },
          "metadata": {},
          "execution_count": 77
        }
      ]
    },
    {
      "cell_type": "code",
      "source": [
        "plot_predictions(predictions=y_preds_practice)"
      ],
      "metadata": {
        "colab": {
          "base_uri": "https://localhost:8080/",
          "height": 428
        },
        "id": "cddME4gpKr9m",
        "outputId": "2bfdf648-28fe-4aa8-b7d5-68b57aa02f83"
      },
      "execution_count": null,
      "outputs": [
        {
          "output_type": "display_data",
          "data": {
            "text/plain": [
              "<Figure size 720x504 with 1 Axes>"
            ],
            "image/png": "[encoded data removed]"
          },
          "metadata": {
            "needs_background": "light"
          }
        }
      ]
    }
  ]
}